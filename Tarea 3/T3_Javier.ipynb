{
 "cells": [
  {
   "attachments": {},
   "cell_type": "markdown",
   "id": "530257f0",
   "metadata": {},
   "source": [
    "Pontificia Universidad Católica de Chile <br>\n",
    "Departamento de Ciencia de la Computación <br>\n",
    "IIC2433 - Minería de Datos\n",
    "<br>\n",
    "\n",
    "<center>\n",
    "    <h2> Tarea 3 </h2>\n",
    "    <h1> Regresión Logistica y GMM </h1>\n",
    "    <p>\n",
    "        Profesor Marcelo Mendoza<br>\n",
    "        Primer Semestre 2023<br>    \n",
    "        Fecha de entrega: Miércoles  26 de Abril\n",
    "    </p>\n",
    "    <br>\n",
    "</center>\n",
    "\n",
    "<br>\n",
    "\n",
    "---"
   ]
  },
  {
   "cell_type": "markdown",
   "id": "47ea0cef",
   "metadata": {},
   "source": [
    "## Indicaciones\n",
    "\n",
    "Deberás entregar **SOLO** el archivo .ipynb en el buzón respectivo en canvas. \n",
    "\n",
    "**IMPORTANTE**: \n",
    "- Se te dará puntaje tanto por código como por la manera en la que respondas las preguntas planteadas. Es decir, si tienes un código perfecto pero este no es explicado o no se responden preguntas asociadas a este, no se tendrá el puntaje completo.\n",
    "- El notebook debe tener todas las celdas de código ejecutadas. Cualquier notebook que no las tenga no podrá ser corregido.\n",
    "- El carácter de esta tarea es **INDIVIDUAL**. Cualquier instancia de copia resultará en un 1,1 como nota de curso.\n",
    "\n",
    "---"
   ]
  },
  {
   "cell_type": "markdown",
   "id": "ee362fa4",
   "metadata": {},
   "source": [
    "## Librerías"
   ]
  },
  {
   "cell_type": "code",
   "execution_count": 152,
   "id": "72ce2cd6",
   "metadata": {},
   "outputs": [],
   "source": [
    "import itertools\n",
    "import numpy as np\n",
    "import pandas as pd\n",
    "import seaborn as sn\n",
    "import matplotlib.pyplot as plt\n",
    "\n",
    "from sklearn.linear_model import LogisticRegression\n",
    "from sklearn.mixture import GaussianMixture\n",
    "from sklearn.metrics import confusion_matrix, accuracy_score, classification_report\n",
    "from sklearn.decomposition import PCA\n",
    "from sklearn.preprocessing import minmax_scale\n",
    "from sklearn.model_selection import train_test_split\n",
    "from sklearn.feature_extraction import DictVectorizer"
   ]
  },
  {
   "cell_type": "markdown",
   "id": "9170a3b9",
   "metadata": {},
   "source": [
    "## Utils"
   ]
  },
  {
   "cell_type": "code",
   "execution_count": 153,
   "id": "60c15034",
   "metadata": {},
   "outputs": [],
   "source": [
    "def plot_confusion_matrix(cm, classes,\n",
    "                          normalize=False,\n",
    "                          title='Confusion matrix',\n",
    "                          cmap=plt.cm.Blues):\n",
    "    \"\"\"\n",
    "    This function prints and plots the confusion matrix.\n",
    "    Normalization can be applied by setting `normalize=True`.\n",
    "    \"\"\"\n",
    "    if normalize:\n",
    "        cm = cm.astype('float') / cm.sum(axis=1)[:, np.newaxis]\n",
    "        print(\"Normalized confusion matrix\")\n",
    "    else:\n",
    "        print('Confusion matrix, without normalization')\n",
    "\n",
    "\n",
    "    plt.imshow(cm, interpolation='nearest', cmap=cmap)\n",
    "    plt.title(title)\n",
    "    plt.colorbar()\n",
    "    tick_marks = np.arange(len(classes))\n",
    "    plt.xticks(tick_marks, classes, rotation=90)\n",
    "    plt.yticks(tick_marks, classes)\n",
    "\n",
    "    fmt = '.2f' if normalize else 'd'\n",
    "    thresh = cm.max() / 2.\n",
    "    for i, j in itertools.product(range(cm.shape[0]), range(cm.shape[1])):\n",
    "        plt.text(j, i, format(cm[i, j], fmt),\n",
    "                 horizontalalignment=\"center\",\n",
    "                 color=\"white\" if cm[i, j] > thresh else \"black\")\n",
    "\n",
    "    plt.tight_layout()\n",
    "    plt.ylabel('True label')\n",
    "    plt.xlabel('Predicted label')"
   ]
  },
  {
   "cell_type": "markdown",
   "id": "f97da972",
   "metadata": {},
   "source": [
    "## Parte 1: Carga y Preprocesamiento de Datos\n",
    "En esta tarea deberás trabajar con el dataset de Credit Card Fraud que puedes descargar de [Kaggle](https://www.kaggle.com/datasets/mlg-ulb/creditcardfraud)."
   ]
  },
  {
   "cell_type": "markdown",
   "id": "e1350e75",
   "metadata": {},
   "source": [
    "### 1.1 Carga de Datos"
   ]
  },
  {
   "cell_type": "code",
   "execution_count": 154,
   "id": "265e57ce",
   "metadata": {},
   "outputs": [],
   "source": [
    "dframe = pd.read_csv(\"creditcard.csv\", encoding = \"ISO-8859-1\")"
   ]
  },
  {
   "cell_type": "markdown",
   "id": "768b05e8",
   "metadata": {},
   "source": [
    "### 1.2 Descripción del dataset (2 pts.)\n",
    "Investiga sobre el dataset y responder las siguientes preguntas:\n",
    "- ¿En que consiste el dataset?\n",
    "- ¿Que significan las variables?\n",
    "- ¿Por que el dataset presenta las variables en la forma que lo hace?\n",
    "- ¿Hay algo que te llame la atencion? (Hint: revisa la cantidad de datos por clase)"
   ]
  },
  {
   "attachments": {},
   "cell_type": "markdown",
   "id": "d0b8f114",
   "metadata": {},
   "source": [
    "---\n",
    "+ El dataset consiste en transacciones bancarias de tarjetas de credito en septiembre del 2013, este presenta transacciones ocurridas en dos dias, donde 492 de 284807 han sido fraudes.\n",
    "+ Las columnas contienen la siguiente informacion:\n",
    "    - **Time:** contiene los segundos transcurridos desde el inicio del dataset hacia la transaccion.\n",
    "    - **V1, V2, ... , V28:** Es informacion protegida de los clientes representada en transformaciones PCA.\n",
    "    - **Amount:** Es la cantidad de dinero de la transaccion.\n",
    "    - **Class:** Es 1 si la transaccion es fraudulenta y 0 si no lo es.\n",
    "+ Dado que la informacion del dataset es sensible, se ven en la obligacion de ocultar ciertos datos para darle privacidad a sus usuarios.\n",
    "+ Todas las transformacion PCA me llaman la atencion, dado que no llego a entender porque serian 28 por transaccion. Lo otro que me llama la atencion es que la mayoria de transaccion fraudulentas son de 1 en la columna de amount\n",
    "---"
   ]
  },
  {
   "cell_type": "markdown",
   "id": "90775431",
   "metadata": {},
   "source": [
    "### 1.3 Preprocesamiento (2 pts.)\n",
    "Una vez tengas claro en que consisten los datos debes prepararlos para ser usados. Realiza el preprocesamiento necesario, esto puede incluir remoción de valores nulos y outliers, normalización, entre otros. Es importante que cada paso sea justificado correctamente. "
   ]
  },
  {
   "cell_type": "code",
   "execution_count": 155,
   "id": "8aa0e9be",
   "metadata": {},
   "outputs": [],
   "source": [
    "dframe.dropna(inplace=True)\n",
    "dframe[dframe.isnull().any(axis=1)].size\n",
    "x_df = dframe.drop(['Time', 'Amount', 'Class'], axis=1)\n",
    "\n",
    "vectorizer = DictVectorizer(sparse=False)\n",
    "X = vectorizer.fit_transform(x_df.to_dict(\"records\"))\n",
    "X2 = vectorizer.fit_transform(x_df.to_dict(\"records\"))\n",
    "\n",
    "y = dframe.Class.values\n",
    "classes = np.unique(y)"
   ]
  },
  {
   "attachments": {},
   "cell_type": "markdown",
   "id": "05c23b28",
   "metadata": {},
   "source": [
    "Primero elimine las filas con columnas vacias para eliminar datos poco significativos a la muestra, luego elimine la columna Time, Amount y Class para que se usar las columnas V's en la regresion logistica.\n",
    "Para este dataset decidi no hacer una normalizacion minmax, dado que nos ofrecen datos PCA, que luego podran ser recuperados usando un reversePCA, cosa que no se podria hacer en caso de usar esta normalizacion."
   ]
  },
  {
   "cell_type": "markdown",
   "id": "cca4a740",
   "metadata": {},
   "source": [
    "#### 1.3.1 Train-test split (1 pt.)\n",
    "Divide el dataset en conjuntos de training y de test. Usa el 70% de los datos para training y 30% para test."
   ]
  },
  {
   "cell_type": "code",
   "execution_count": 156,
   "id": "a00db046",
   "metadata": {},
   "outputs": [],
   "source": [
    "X_train, X_test, y_train, y_test = train_test_split(X, y, train_size=0.7, test_size=0.3)"
   ]
  },
  {
   "cell_type": "markdown",
   "id": "ceccb6d2",
   "metadata": {},
   "source": [
    "## Parte 2: Regresión Logistica V1 (5 pts.)\n",
    "Ahora que tienes los datos listos, entrena un clasificador de regresion logistica, evalua el modelo utilizando:\n",
    "- Matriz de Confusión\n",
    "- Accuracy\n",
    "- Precision\n",
    "- Recall\n",
    "\n",
    "y comenta los resultados. Preguntas guia: \n",
    "- ¿Son estos resultados buenos?\n",
    "- ¿El clasificador se comporta como queremos que lo haga?"
   ]
  },
  {
   "cell_type": "code",
   "execution_count": 157,
   "id": "1df35eca",
   "metadata": {},
   "outputs": [
    {
     "data": {
      "text/plain": [
       "0.9992743700478681"
      ]
     },
     "execution_count": 157,
     "metadata": {},
     "output_type": "execute_result"
    }
   ],
   "source": [
    "clf = LogisticRegression()\n",
    "clf.fit(X_train, y_train)\n",
    "clf.score(X_test, y_test)"
   ]
  },
  {
   "cell_type": "code",
   "execution_count": 158,
   "id": "ca55acdb",
   "metadata": {},
   "outputs": [
    {
     "name": "stdout",
     "output_type": "stream",
     "text": [
      "              precision    recall  f1-score   support\n",
      "\n",
      "           0       1.00      1.00      1.00     85296\n",
      "           1       0.83      0.72      0.77       147\n",
      "\n",
      "    accuracy                           1.00     85443\n",
      "   macro avg       0.92      0.86      0.89     85443\n",
      "weighted avg       1.00      1.00      1.00     85443\n",
      "\n"
     ]
    }
   ],
   "source": [
    "y_pred = clf.predict(X_test)\n",
    "print(classification_report(y_test, y_pred))"
   ]
  },
  {
   "cell_type": "code",
   "execution_count": 159,
   "id": "f832b427",
   "metadata": {},
   "outputs": [
    {
     "name": "stdout",
     "output_type": "stream",
     "text": [
      "Normalized confusion matrix\n"
     ]
    },
    {
     "data": {
      "image/png": "[encoded data removed]",
      "text/plain": [
       "<Figure size 500x500 with 2 Axes>"
      ]
     },
     "metadata": {},
     "output_type": "display_data"
    }
   ],
   "source": [
    "cnf_matrix = confusion_matrix(y_test, y_pred)\n",
    "np.set_printoptions(precision=2)\n",
    "\n",
    "# Plot normalized confusion matrix\n",
    "plt.figure(figsize=(5,5))\n",
    "plot_confusion_matrix(cnf_matrix, classes=classes, normalize=True, title='Normalized confusion matrix')\n",
    "\n",
    "plt.show()"
   ]
  },
  {
   "attachments": {},
   "cell_type": "markdown",
   "id": "7b5863bb",
   "metadata": {},
   "source": [
    "El clasificador dicta que para los casos que no son fraude, hay una precision del 100% de los casos. Por otro lado, los casos que si son fraude tenemos una precision del 69%.\n",
    "Si bien se podrian considerar resultados \"decentes\", tenemos que analizar en que se esta usando esta informacion, donde una sola transaccion fraudulenta realizada puede afectar bastante al banco, por lo que un 31% de fallo es muy alto para la institucion.\n",
    "El clasificador no se comporta como queremos, dado que el porcentaje real de fraudes en las transaccion es minimo, menor al 1%, por lo que la regresion logistica esta trabajando con una base de datos totalmente desbalanceada para generar sus conclusiones."
   ]
  },
  {
   "cell_type": "markdown",
   "id": "ef693150",
   "metadata": {},
   "source": [
    "# Parte 3: GMM (10 pts.)\n",
    "Es posible que en el caso anterior no hayas llegado a un tan buen resultado. Puede que la causa de eso sea el desbalance de clases en el dataset. Para arreglar el desbalance debes utilizar Gaussian Mixture Models. En esta parte tendras que:\n",
    "- Ajustar una GMM de forma tal que permita arreglar el desbalance del dataset. Los parametros del modelo deben ser justificados.\n",
    "- Generar datos desde la GMM e incorporarlos al dataset original.\n",
    "- Para evaluar de forma cualitativa, debes usar PCA para reducir la dimensionalidad de los datos a 2 dimensiones, asi podras graficar los datos originales y los generados.\n",
    "- Generar un nuevo set de datos de training y testing (70/30)."
   ]
  },
  {
   "cell_type": "code",
   "execution_count": 160,
   "id": "8be8d8c9",
   "metadata": {},
   "outputs": [],
   "source": [
    "#Se importa nuevamente el dataframe para crear uno solo con los fraudes\n",
    "\n",
    "dframeGMM = pd.read_csv(\"creditcard.csv\", encoding = \"ISO-8859-1\")\n",
    "dframeGMM.dropna(inplace=True)\n",
    "df_frauds = dframeGMM[dframeGMM['Class'] == 1]"
   ]
  },
  {
   "cell_type": "code",
   "execution_count": 161,
   "metadata": {},
   "outputs": [],
   "source": [
    "#Se dropean las columnas que no son necesarias para el GMM y se vectoriza el dataframe\n",
    "\n",
    "x_frauds = df_frauds.drop(['Time', 'Amount', 'Class'], axis=1)\n",
    "vectorizer = DictVectorizer(sparse=False)\n",
    "X_frauds = vectorizer.fit_transform(x_frauds.to_dict(\"records\"))"
   ]
  },
  {
   "cell_type": "code",
   "execution_count": 162,
   "id": "175269b7",
   "metadata": {},
   "outputs": [],
   "source": [
    "#Se busca el mejor numero de componentes para crear el modelo Gaussiando\n",
    "\n",
    "n_components = np.arange(1, 30)\n",
    "models = [GaussianMixture(n, covariance_type='full', random_state=0).fit(X_frauds) for n in n_components]\n",
    "\n",
    "aics = np.asarray([m.aic(X_frauds) for m in models])\n",
    "components = np.where(aics == np.amin(aics))[0][0]"
   ]
  },
  {
   "cell_type": "code",
   "execution_count": 163,
   "id": "b62fa2c3",
   "metadata": {},
   "outputs": [
    {
     "name": "stdout",
     "output_type": "stream",
     "text": [
      "True\n"
     ]
    }
   ],
   "source": [
    "#Se crea el modelo GMM\n",
    "\n",
    "gmm = GaussianMixture(n_components=components, covariance_type=\"full\")\n",
    "gmm.fit(X_frauds)\n",
    "print(gmm.converged_)"
   ]
  },
  {
   "cell_type": "code",
   "execution_count": 164,
   "id": "4434aff1",
   "metadata": {},
   "outputs": [
    {
     "name": "stdout",
     "output_type": "stream",
     "text": [
      "[[-2.31 -2.77  3.2  ... -2.54  1.39 -2.77]\n",
      " [-3.04 -0.84 -0.41 ...  0.33 -0.07 -0.27]\n",
      " [-2.3  -1.53  2.03 ...  0.56 -0.4  -0.24]\n",
      " ...\n",
      " [-0.68 -3.46  1.79 ... -2.23  1.21 -0.65]\n",
      " [-3.11 -5.25  1.93 ... -2.21  1.06 -1.63]\n",
      " [ 1.99 -0.89  0.49 ...  0.22 -0.07  0.58]]\n"
     ]
    }
   ],
   "source": [
    "# Se crean nuevos datos a partir del nuevo GMM\n",
    "\n",
    "n_datos_nuevos = 100000\n",
    "\n",
    "data_new = gmm.sample(n_datos_nuevos)\n",
    "print(X_frauds)"
   ]
  },
  {
   "cell_type": "code",
   "execution_count": 165,
   "metadata": {},
   "outputs": [],
   "source": [
    "# Se creo un modelo de GMM a partir de los fraudes del dataset, para asi lograr crear una cantidad de estos que equilibren el desbalanceo del dataset.\n",
    "X_gmm = np.concatenate((X, data_new[0]), axis=0)\n",
    "y_gmm = np.concatenate((y, np.ones(n_datos_nuevos)))"
   ]
  },
  {
   "cell_type": "code",
   "execution_count": 166,
   "id": "4c1972db",
   "metadata": {},
   "outputs": [],
   "source": [
    "# Se crea una reduccion de dimensionalidad con PCA para analizar los datos creados con los antiguos\n",
    "\n",
    "pca = PCA(n_components=2) # n_components para reducir su dimensionalidad a dos\n",
    "frauds_pca = pca.fit_transform(X_frauds)\n",
    "new_frauds_pca = pca.fit_transform(data_new[0])"
   ]
  },
  {
   "cell_type": "code",
   "execution_count": 167,
   "id": "c11a4a58",
   "metadata": {},
   "outputs": [
    {
     "data": {
      "image/png": "[encoded data removed]",
      "text/plain": [
       "<Figure size 640x480 with 1 Axes>"
      ]
     },
     "metadata": {},
     "output_type": "display_data"
    }
   ],
   "source": [
    "# Se plotean el PCA\n",
    "\n",
    "fig = plt.figure()\n",
    "ax1 = fig.add_subplot(111)\n",
    "ax1.scatter(new_frauds_pca[:, 0], new_frauds_pca[:, 1], s=10, c='r', marker=\"s\", label='new')\n",
    "ax1.scatter(frauds_pca[:, 0],frauds_pca[:, 1], s=10, c='b', marker=\"o\", label='old')\n",
    "plt.legend(loc='upper left')\n",
    "plt.show()"
   ]
  },
  {
   "attachments": {},
   "cell_type": "markdown",
   "id": "3b4d96b5",
   "metadata": {},
   "source": [
    "#### Responde:\n",
    "- ¿Por qué un desbalance de clases puede ser perjudicial para el clasificador?\n",
    "- Analiza el grafico generado con PCA, ¿los datos generados se ven utiles?\n",
    "---\n",
    "- El desbalanceo es critico para crear un clasificador, ya que la regresion logistica tiene muy poca informacion para generar un resultado certero.\n",
    "- Los datos generados por el GMM son muy parecidos en forma a los reales, por lo que perfectamente podrian ser usados para balancear el dataset si es necesario.\n"
   ]
  },
  {
   "cell_type": "markdown",
   "id": "bdfd63f3",
   "metadata": {},
   "source": [
    "## Parte 4: Regresión Logistica V2 (10 pts.)\n",
    "Finalmente debes entrenar denuevo el clasificador, pero esta vez utilizando el nuevo dataset con datos generados. Repite los mismos pasos que en la Parte 2, en esta parte debes obtener al menos un 85% de accuracy en ambas clases por separado. \n",
    "\n",
    "Responde:\n",
    "- ¿Hubo mejoría en los resultados? Recuerda basarte en accuracy, precision y recall para justificar.\n",
    "- Si no hubo cambios, identifica que paso o pasos desde el preprocesamiento hasta el entrenamiento de la parte 1 es/son los que hacen la diferencia entre un buen y un mal resultado. ¿Por que los pasos que lograste identificar son importantes?\n",
    "- Si hubo cambios, mejora los pasos desde el preprocesamiento hasta el entrenamiento de la parte 1 para que obtengas resultados parecidos a la parte 4. ¿Por que estos pasos fueron importantes para mejorar el resultado de la parte 1?"
   ]
  },
  {
   "cell_type": "code",
   "execution_count": 168,
   "id": "99ed4a90",
   "metadata": {},
   "outputs": [],
   "source": [
    "X_train, X_test, y_train, y_test = train_test_split(X_gmm, y_gmm, train_size=0.7, test_size=0.3)"
   ]
  },
  {
   "cell_type": "code",
   "execution_count": 169,
   "id": "9a133c4e",
   "metadata": {},
   "outputs": [
    {
     "data": {
      "text/plain": [
       "0.9682354062177871"
      ]
     },
     "execution_count": 169,
     "metadata": {},
     "output_type": "execute_result"
    }
   ],
   "source": [
    "clf = LogisticRegression()\n",
    "clf.fit(X_train, y_train)\n",
    "clf.score(X_test, y_test)"
   ]
  },
  {
   "cell_type": "code",
   "execution_count": 170,
   "id": "9a120e40",
   "metadata": {},
   "outputs": [
    {
     "name": "stdout",
     "output_type": "stream",
     "text": [
      "              precision    recall  f1-score   support\n",
      "\n",
      "         0.0       0.96      0.99      0.98     85319\n",
      "         1.0       0.98      0.90      0.94     30124\n",
      "\n",
      "    accuracy                           0.97    115443\n",
      "   macro avg       0.97      0.95      0.96    115443\n",
      "weighted avg       0.97      0.97      0.97    115443\n",
      "\n"
     ]
    }
   ],
   "source": [
    "# Classification report del X_test\n",
    "\n",
    "y_pred = clf.predict(X_test)\n",
    "print(classification_report(y_test, y_pred))"
   ]
  },
  {
   "cell_type": "code",
   "execution_count": 171,
   "id": "bbdf9500",
   "metadata": {},
   "outputs": [
    {
     "name": "stdout",
     "output_type": "stream",
     "text": [
      "Normalized confusion matrix\n"
     ]
    },
    {
     "data": {
      "image/png": "[encoded data removed]",
      "text/plain": [
       "<Figure size 500x500 with 2 Axes>"
      ]
     },
     "metadata": {},
     "output_type": "display_data"
    }
   ],
   "source": [
    "# Matriz de confusion del X_test\n",
    "\n",
    "\n",
    "cnf_matrix = confusion_matrix(y_test, y_pred)\n",
    "np.set_printoptions(precision=2)\n",
    "\n",
    "# Plot normalized confusion matrix\n",
    "plt.figure(figsize=(5,5))\n",
    "plot_confusion_matrix(cnf_matrix, classes=classes, normalize=True, title='Normalized confusion matrix')\n",
    "\n",
    "plt.show()\n"
   ]
  },
  {
   "cell_type": "code",
   "execution_count": 172,
   "id": "bf37a086",
   "metadata": {},
   "outputs": [
    {
     "name": "stdout",
     "output_type": "stream",
     "text": [
      "              precision    recall  f1-score   support\n",
      "\n",
      "         0.0       0.97      0.99      0.98    198996\n",
      "         1.0       0.98      0.90      0.94     70368\n",
      "\n",
      "    accuracy                           0.97    269364\n",
      "   macro avg       0.97      0.95      0.96    269364\n",
      "weighted avg       0.97      0.97      0.97    269364\n",
      "\n"
     ]
    }
   ],
   "source": [
    "# Classification report del X_train\n",
    "\n",
    "y_pred_train = clf.predict(X_train)\n",
    "print(classification_report(y_train, y_pred_train))"
   ]
  },
  {
   "cell_type": "code",
   "execution_count": 173,
   "id": "dbd6bbe7",
   "metadata": {},
   "outputs": [
    {
     "name": "stdout",
     "output_type": "stream",
     "text": [
      "Normalized confusion matrix\n"
     ]
    },
    {
     "data": {
      "image/png": "[encoded data removed]",
      "text/plain": [
       "<Figure size 500x500 with 2 Axes>"
      ]
     },
     "metadata": {},
     "output_type": "display_data"
    }
   ],
   "source": [
    "# Matriz de confusion del X_train\n",
    "\n",
    "cnf_matrix = confusion_matrix(y_train, y_pred_train)\n",
    "np.set_printoptions(precision=2)\n",
    "\n",
    "# Plot normalized confusion matrix\n",
    "plt.figure(figsize=(5,5))\n",
    "plot_confusion_matrix(cnf_matrix, classes=classes, normalize=True, title='Normalized confusion matrix')\n",
    "\n",
    "plt.show()"
   ]
  },
  {
   "attachments": {},
   "cell_type": "markdown",
   "id": "5dcd90a2",
   "metadata": {},
   "source": [
    "- Hubo una clara mejoria en los resultados al implementar los datos del GMM, tanto como la precision y recall subieron, indicando que nuestra regresion es capaz de detectar mejor los casos positivos, falsos positivos y los negativos. \n",
    "\n",
    "---\n",
    "Si hubo cambios, mejora los pasos desde el preprocesamiento hasta el entrenamiento de la parte 1 para que obtengas resultados parecidos a la parte 4. ¿Por que estos pasos fueron importantes para mejorar el resultado de la parte 1?"
   ]
  },
  {
   "cell_type": "code",
   "execution_count": 174,
   "id": "d6b879b8",
   "metadata": {},
   "outputs": [],
   "source": [
    "dframe = pd.read_csv(\"creditcard.csv\", encoding = \"ISO-8859-1\")"
   ]
  },
  {
   "cell_type": "code",
   "execution_count": 204,
   "id": "6bd263b6",
   "metadata": {},
   "outputs": [
    {
     "data": {
      "text/plain": [
       "(10000, 31)"
      ]
     },
     "execution_count": 204,
     "metadata": {},
     "output_type": "execute_result"
    }
   ],
   "source": [
    "dframe.dropna(inplace=True)\n",
    "dframe[dframe.isnull().any(axis=1)].size\n",
    "df_frauds = dframe[dframe['Class'] == 1]\n",
    "df_not_frauds = dframe[dframe['Class'] == 0]\n",
    "df_slice_not_frauds = df_not_frauds.iloc[0:10000,:]\n",
    "\n",
    "dframe_slice = pd.concat([df_slice_not_frauds, df_frauds])\n",
    "\n",
    "x_df = dframe_slice.drop(['Time', 'Amount', 'Class'], axis=1)\n",
    "\n",
    "vectorizer = DictVectorizer(sparse=False)\n",
    "X = vectorizer.fit_transform(x_df.to_dict(\"records\"))\n",
    "\n",
    "\n",
    "y = dframe_slice.Class.values\n",
    "classes = np.unique(y)\n",
    "\n",
    "df_slice_not_frauds.shape"
   ]
  },
  {
   "cell_type": "code",
   "execution_count": 205,
   "id": "d04ba4b1",
   "metadata": {},
   "outputs": [],
   "source": [
    "X_train, X_test, y_train, y_test = train_test_split(X, y, train_size=0.7, test_size=0.3)"
   ]
  },
  {
   "cell_type": "code",
   "execution_count": 206,
   "id": "d72fee67",
   "metadata": {},
   "outputs": [
    {
     "data": {
      "text/plain": [
       "0.9917407878017789"
      ]
     },
     "execution_count": 206,
     "metadata": {},
     "output_type": "execute_result"
    }
   ],
   "source": [
    "clf = LogisticRegression()\n",
    "clf.fit(X_train, y_train)\n",
    "clf.score(X_test, y_test)"
   ]
  },
  {
   "cell_type": "code",
   "execution_count": 207,
   "id": "cf833b7d",
   "metadata": {},
   "outputs": [
    {
     "name": "stdout",
     "output_type": "stream",
     "text": [
      "              precision    recall  f1-score   support\n",
      "\n",
      "           0       0.99      1.00      1.00      2990\n",
      "           1       0.95      0.89      0.92       158\n",
      "\n",
      "    accuracy                           0.99      3148\n",
      "   macro avg       0.97      0.94      0.96      3148\n",
      "weighted avg       0.99      0.99      0.99      3148\n",
      "\n"
     ]
    }
   ],
   "source": [
    "y_pred = clf.predict(X_test)\n",
    "print(classification_report(y_test, y_pred))"
   ]
  },
  {
   "cell_type": "code",
   "execution_count": 208,
   "id": "2d6da299",
   "metadata": {},
   "outputs": [
    {
     "name": "stdout",
     "output_type": "stream",
     "text": [
      "Normalized confusion matrix\n"
     ]
    },
    {
     "data": {
      "image/png": "[encoded data removed]",
      "text/plain": [
       "<Figure size 500x500 with 2 Axes>"
      ]
     },
     "metadata": {},
     "output_type": "display_data"
    }
   ],
   "source": [
    "cnf_matrix = confusion_matrix(y_test, y_pred)\n",
    "np.set_printoptions(precision=2)\n",
    "\n",
    "# Plot normalized confusion matrix\n",
    "plt.figure(figsize=(5,5))\n",
    "plot_confusion_matrix(cnf_matrix, classes=classes, normalize=True, title='Normalized confusion matrix')\n",
    "\n",
    "plt.show()"
   ]
  },
  {
   "attachments": {},
   "cell_type": "markdown",
   "id": "4d8e4f13",
   "metadata": {},
   "source": [
    "Lo que hice para mejorar la matriz de confusion fue equilibrar el dataset al igual que cuando le agregue datos de GMM, pero esta vez, elimine filas que no eran fraudes, es menos confiable el resultado que devuelve, sin embargo es la unica forma de mejorar resultados sin usar algun algoritmo predictor."
   ]
  }
 ],
 "metadata": {
  "kernelspec": {
   "display_name": "Python 3 (ipykernel)",
   "language": "python",
   "name": "python3"
  },
  "language_info": {
   "codemirror_mode": {
    "name": "ipython",
    "version": 3
   },
   "file_extension": ".py",
   "mimetype": "text/x-python",
   "name": "python",
   "nbconvert_exporter": "python",
   "pygments_lexer": "ipython3",
   "version": "3.9.13"
  }
 },
 "nbformat": 4,
 "nbformat_minor": 5
}
