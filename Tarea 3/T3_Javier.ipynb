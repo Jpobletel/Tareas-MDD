{
 "cells": [
  {
   "attachments": {},
   "cell_type": "markdown",
   "id": "530257f0",
   "metadata": {},
   "source": [
    "Pontificia Universidad Católica de Chile <br>\n",
    "Departamento de Ciencia de la Computación <br>\n",
    "IIC2433 - Minería de Datos\n",
    "<br>\n",
    "\n",
    "<center>\n",
    "    <h2> Tarea 3 </h2>\n",
    "    <h1> Regresión Logistica y GMM </h1>\n",
    "    <p>\n",
    "        Profesor Marcelo Mendoza<br>\n",
    "        Primer Semestre 2023<br>    \n",
    "        Fecha de entrega: Miércoles  26 de Abril\n",
    "    </p>\n",
    "    <br>\n",
    "</center>\n",
    "\n",
    "<br>\n",
    "\n",
    "---"
   ]
  },
  {
   "cell_type": "markdown",
   "id": "47ea0cef",
   "metadata": {},
   "source": [
    "## Indicaciones\n",
    "\n",
    "Deberás entregar **SOLO** el archivo .ipynb en el buzón respectivo en canvas. \n",
    "\n",
    "**IMPORTANTE**: \n",
    "- Se te dará puntaje tanto por código como por la manera en la que respondas las preguntas planteadas. Es decir, si tienes un código perfecto pero este no es explicado o no se responden preguntas asociadas a este, no se tendrá el puntaje completo.\n",
    "- El notebook debe tener todas las celdas de código ejecutadas. Cualquier notebook que no las tenga no podrá ser corregido.\n",
    "- El carácter de esta tarea es **INDIVIDUAL**. Cualquier instancia de copia resultará en un 1,1 como nota de curso.\n",
    "\n",
    "---"
   ]
  },
  {
   "cell_type": "markdown",
   "id": "ee362fa4",
   "metadata": {},
   "source": [
    "## Librerías"
   ]
  },
  {
   "cell_type": "code",
   "execution_count": 37,
   "id": "72ce2cd6",
   "metadata": {},
   "outputs": [],
   "source": [
    "import itertools\n",
    "import numpy as np\n",
    "import pandas as pd\n",
    "import seaborn as sn\n",
    "import matplotlib.pyplot as plt\n",
    "\n",
    "from sklearn.linear_model import LogisticRegression\n",
    "from sklearn.mixture import GaussianMixture\n",
    "from sklearn.metrics import confusion_matrix, accuracy_score, classification_report\n",
    "from sklearn.decomposition import PCA\n",
    "from sklearn.preprocessing import minmax_scale\n",
    "from sklearn.model_selection import train_test_split\n",
    "from sklearn.feature_extraction import DictVectorizer"
   ]
  },
  {
   "cell_type": "markdown",
   "id": "9170a3b9",
   "metadata": {},
   "source": [
    "## Utils"
   ]
  },
  {
   "cell_type": "code",
   "execution_count": 38,
   "id": "60c15034",
   "metadata": {},
   "outputs": [],
   "source": [
    "def plot_confusion_matrix(cm, classes,\n",
    "                          normalize=False,\n",
    "                          title='Confusion matrix',\n",
    "                          cmap=plt.cm.Blues):\n",
    "    \"\"\"\n",
    "    This function prints and plots the confusion matrix.\n",
    "    Normalization can be applied by setting `normalize=True`.\n",
    "    \"\"\"\n",
    "    if normalize:\n",
    "        cm = cm.astype('float') / cm.sum(axis=1)[:, np.newaxis]\n",
    "        print(\"Normalized confusion matrix\")\n",
    "    else:\n",
    "        print('Confusion matrix, without normalization')\n",
    "\n",
    "\n",
    "    plt.imshow(cm, interpolation='nearest', cmap=cmap)\n",
    "    plt.title(title)\n",
    "    plt.colorbar()\n",
    "    tick_marks = np.arange(len(classes))\n",
    "    plt.xticks(tick_marks, classes, rotation=90)\n",
    "    plt.yticks(tick_marks, classes)\n",
    "\n",
    "    fmt = '.2f' if normalize else 'd'\n",
    "    thresh = cm.max() / 2.\n",
    "    for i, j in itertools.product(range(cm.shape[0]), range(cm.shape[1])):\n",
    "        plt.text(j, i, format(cm[i, j], fmt),\n",
    "                 horizontalalignment=\"center\",\n",
    "                 color=\"white\" if cm[i, j] > thresh else \"black\")\n",
    "\n",
    "    plt.tight_layout()\n",
    "    plt.ylabel('True label')\n",
    "    plt.xlabel('Predicted label')"
   ]
  },
  {
   "cell_type": "markdown",
   "id": "f97da972",
   "metadata": {},
   "source": [
    "## Parte 1: Carga y Preprocesamiento de Datos\n",
    "En esta tarea deberás trabajar con el dataset de Credit Card Fraud que puedes descargar de [Kaggle](https://www.kaggle.com/datasets/mlg-ulb/creditcardfraud)."
   ]
  },
  {
   "cell_type": "markdown",
   "id": "e1350e75",
   "metadata": {},
   "source": [
    "### 1.1 Carga de Datos"
   ]
  },
  {
   "cell_type": "code",
   "execution_count": 39,
   "id": "265e57ce",
   "metadata": {},
   "outputs": [],
   "source": [
    "dframe = pd.read_csv(\"creditcard.csv\", encoding = \"ISO-8859-1\")"
   ]
  },
  {
   "cell_type": "markdown",
   "id": "768b05e8",
   "metadata": {},
   "source": [
    "### 1.2 Descripción del dataset (2 pts.)\n",
    "Investiga sobre el dataset y responder las siguientes preguntas:\n",
    "- ¿En que consiste el dataset?\n",
    "- ¿Que significan las variables?\n",
    "- ¿Por que el dataset presenta las variables en la forma que lo hace?\n",
    "- ¿Hay algo que te llame la atencion? (Hint: revisa la cantidad de datos por clase)"
   ]
  },
  {
   "cell_type": "code",
   "execution_count": null,
   "id": "e74f14bd",
   "metadata": {},
   "outputs": [],
   "source": []
  },
  {
   "cell_type": "markdown",
   "id": "90775431",
   "metadata": {},
   "source": [
    "### 1.3 Preprocesamiento (2 pts.)\n",
    "Una vez tengas claro en que consisten los datos debes prepararlos para ser usados. Realiza el preprocesamiento necesario, esto puede incluir remoción de valores nulos y outliers, normalización, entre otros. Es importante que cada paso sea justificado correctamente. "
   ]
  },
  {
   "cell_type": "code",
   "execution_count": 41,
   "id": "8aa0e9be",
   "metadata": {},
   "outputs": [],
   "source": [
    "dframe.dropna(inplace=True)\n",
    "dframe[dframe.isnull().any(axis=1)].size\n",
    "x_df = dframe.drop(['Time', 'Amount', 'Class'], axis=1)\n",
    "\n",
    "vectorizer = DictVectorizer(sparse=False)\n",
    "X = vectorizer.fit_transform(x_df.to_dict(\"records\"))\n",
    "\n",
    "y = dframe.Class.values\n",
    "classes = np.unique(y)"
   ]
  },
  {
   "cell_type": "markdown",
   "id": "cca4a740",
   "metadata": {},
   "source": [
    "#### 1.3.1 Train-test split (1 pt.)\n",
    "Divide el dataset en conjuntos de training y de test. Usa el 70% de los datos para training y 30% para test."
   ]
  },
  {
   "cell_type": "code",
   "execution_count": 42,
   "id": "a00db046",
   "metadata": {},
   "outputs": [],
   "source": [
    "X_train, X_test, y_train, y_test = train_test_split(X, y, train_size=0.7, test_size=0.3)"
   ]
  },
  {
   "cell_type": "markdown",
   "id": "ceccb6d2",
   "metadata": {},
   "source": [
    "## Parte 2: Regresión Logistica V1 (5 pts.)\n",
    "Ahora que tienes los datos listos, entrena un clasificador de regresion logistica, evalua el modelo utilizando:\n",
    "- Matriz de Confusión\n",
    "- Accuracy\n",
    "- Precision\n",
    "- Recall\n",
    "\n",
    "y comenta los resultados. Preguntas guia: \n",
    "- ¿Son estos resultados buenos?\n",
    "- ¿El clasificador se comporta como queremos que lo haga?"
   ]
  },
  {
   "cell_type": "code",
   "execution_count": 43,
   "id": "1df35eca",
   "metadata": {},
   "outputs": [
    {
     "data": {
      "text/plain": [
       "0.9992158515033414"
      ]
     },
     "execution_count": 43,
     "metadata": {},
     "output_type": "execute_result"
    }
   ],
   "source": [
    "clf = LogisticRegression()\n",
    "clf.fit(X_train, y_train)\n",
    "clf.score(X_test, y_test)"
   ]
  },
  {
   "cell_type": "code",
   "execution_count": 44,
   "id": "ca55acdb",
   "metadata": {},
   "outputs": [
    {
     "name": "stdout",
     "output_type": "stream",
     "text": [
      "              precision    recall  f1-score   support\n",
      "\n",
      "           0       1.00      1.00      1.00     85292\n",
      "           1       0.91      0.62      0.74       151\n",
      "\n",
      "    accuracy                           1.00     85443\n",
      "   macro avg       0.96      0.81      0.87     85443\n",
      "weighted avg       1.00      1.00      1.00     85443\n",
      "\n"
     ]
    }
   ],
   "source": [
    "y_pred = clf.predict(X_test)\n",
    "print(classification_report(y_test, y_pred))"
   ]
  },
  {
   "cell_type": "code",
   "execution_count": 45,
   "id": "f832b427",
   "metadata": {},
   "outputs": [
    {
     "name": "stdout",
     "output_type": "stream",
     "text": [
      "Normalized confusion matrix\n"
     ]
    },
    {
     "data": {
      "image/png": "[encoded data removed]",
      "text/plain": [
       "<Figure size 500x500 with 2 Axes>"
      ]
     },
     "metadata": {},
     "output_type": "display_data"
    }
   ],
   "source": [
    "cnf_matrix = confusion_matrix(y_test, y_pred)\n",
    "np.set_printoptions(precision=2)\n",
    "\n",
    "# Plot normalized confusion matrix\n",
    "plt.figure(figsize=(5,5))\n",
    "plot_confusion_matrix(cnf_matrix, classes=classes, normalize=True, title='Normalized confusion matrix')\n",
    "\n",
    "plt.show()"
   ]
  },
  {
   "cell_type": "markdown",
   "id": "ef693150",
   "metadata": {},
   "source": [
    "# Parte 3: GMM (10 pts.)\n",
    "Es posible que en el caso anterior no hayas llegado a un tan buen resultado. Puede que la causa de eso sea el desbalance de clases en el dataset. Para arreglar el desbalance debes utilizar Gaussian Mixture Models. En esta parte tendras que:\n",
    "- Ajustar una GMM de forma tal que permita arreglar el desbalance del dataset. Los parametros del modelo deben ser justificados.\n",
    "- Generar datos desde la GMM e incorporarlos al dataset original.\n",
    "- Para evaluar de forma cualitativa, debes usar PCA para reducir la dimensionalidad de los datos a 2 dimensiones, asi podras graficar los datos originales y los generados.\n",
    "- Generar un nuevo set de datos de training y testing (70/30)."
   ]
  },
  {
   "cell_type": "code",
   "execution_count": null,
   "id": "c4cafae8",
   "metadata": {},
   "outputs": [],
   "source": []
  },
  {
   "cell_type": "markdown",
   "id": "3b4d96b5",
   "metadata": {},
   "source": [
    "#### Responde:\n",
    "- ¿Por qué un desbalance de clases puede ser perjudicial para el clasificador?\n",
    "- Analiza el grafico generado con PCA, ¿los datos generados se ven utiles?"
   ]
  },
  {
   "cell_type": "markdown",
   "id": "bdfd63f3",
   "metadata": {},
   "source": [
    "## Parte 4: Regresión Logistica V2 (10 pts.)\n",
    "Finalmente debes entrenar denuevo el clasificador, pero esta vez utilizando el nuevo dataset con datos generados. Repite los mismos pasos que en la Parte 2, en esta parte debes obtener al menos un 85% de accuracy en ambas clases por separado. \n",
    "\n",
    "Responde:\n",
    "- ¿Hubo mejoría en los resultados? Recuerda basarte en accuracy, precision y recall para justificar.\n",
    "- Si no hubo cambios, identifica que paso o pasos desde el preprocesamiento hasta el entrenamiento de la parte 1 es/son los que hacen la diferencia entre un buen y un mal resultado. ¿Por que los pasos que lograste identificar son importantes?\n",
    "- Si hubo cambios, mejora los pasos desde el preprocesamiento hasta el entrenamiento de la parte 1 para que obtengas resultados parecidos a la parte 4. ¿Por que estos pasos fueron importantes para mejorar el resultado de la parte 1?"
   ]
  },
  {
   "cell_type": "code",
   "execution_count": null,
   "id": "99ed4a90",
   "metadata": {},
   "outputs": [],
   "source": []
  }
 ],
 "metadata": {
  "kernelspec": {
   "display_name": "Python 3 (ipykernel)",
   "language": "python",
   "name": "python3"
  },
  "language_info": {
   "codemirror_mode": {
    "name": "ipython",
    "version": 3
   },
   "file_extension": ".py",
   "mimetype": "text/x-python",
   "name": "python",
   "nbconvert_exporter": "python",
   "pygments_lexer": "ipython3",
   "version": "3.8.10"
  }
 },
 "nbformat": 4,
 "nbformat_minor": 5
}
